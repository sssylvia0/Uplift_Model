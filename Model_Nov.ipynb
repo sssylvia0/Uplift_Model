{
  "cells": [
    {
      "cell_type": "markdown",
      "source": [
        "#Uplift and Profit prediction\n",
        "\n",
        "1. Model (Traning Data: data202306.csv)\n",
        "\n",
        "*  **Uplift**:  CasualML_uplift_202306_1-5.pkl\n",
        "\n",
        "* **X-Learner**:  'EconML_X_202306_new_1.pkl', 'Value_EconML_X_202306.pkl',\n",
        "\n",
        "*   **Profit**:  Econml_RF_202306.pkl, Econml_CF_202306.pkl\n",
        "\n",
        "2. Time\n",
        "\n",
        "\n",
        "\n"
      ],
      "metadata": {
        "id": "qPMlkRJ_r-na"
      },
      "id": "qPMlkRJ_r-na"
    },
    {
      "cell_type": "code",
      "source": [
        "from google.colab import drive\n",
        "drive.mount('/content/drive')"
      ],
      "metadata": {
        "colab": {
          "base_uri": "https://localhost:8080/"
        },
        "outputId": "c330e710-22d8-4d1b-be4c-edc90b7c30e9",
        "id": "QSw_XSQikBl9"
      },
      "execution_count": 1,
      "outputs": [
        {
          "output_type": "stream",
          "name": "stdout",
          "text": [
            "Drive already mounted at /content/drive; to attempt to forcibly remount, call drive.mount(\"/content/drive\", force_remount=True).\n"
          ]
        }
      ],
      "id": "QSw_XSQikBl9"
    },
    {
      "cell_type": "code",
      "source": [
        "import zipfile\n",
        "\n",
        "# Specify the path to the zip file\n",
        "#zip_file_path = 'data202305.csv.zip'\n",
        "zip_file_path = '/content/drive/MyDrive/Sinopac/Rawdata/data202311.csv.zip'\n",
        "\n",
        "\n",
        "# Unzip the folder\n",
        "with zipfile.ZipFile(zip_file_path, 'r') as zip_ref:\n",
        "    zip_ref.extractall('/content/')\n",
        "print(\"Unzipped successfully.\")"
      ],
      "metadata": {
        "outputId": "88053303-9ccb-443a-d352-dbe76875fdf4",
        "colab": {
          "base_uri": "https://localhost:8080/"
        },
        "id": "8eC-Gu9lkBl9"
      },
      "execution_count": 2,
      "outputs": [
        {
          "output_type": "stream",
          "name": "stdout",
          "text": [
            "Unzipped successfully.\n"
          ]
        }
      ],
      "id": "8eC-Gu9lkBl9"
    },
    {
      "cell_type": "code",
      "source": [
        "import pandas as pd\n",
        "import numpy as np\n",
        "\n",
        "# Load your May data\n",
        "oct_data = pd.read_csv('/content/data202311.csv', index_col=0)\n",
        "\n",
        "unino = oct_data['UNINO']\n",
        "oct_data.drop(['換匯發送名單','TOTALNTAMOUNT', '跨售行為', 'UNINO'], axis = 'columns', inplace = True)\n",
        "\n",
        "#201 columns\n",
        "oct_data.columns"
      ],
      "metadata": {
        "id": "VxlMoTqSMR_l",
        "colab": {
          "base_uri": "https://localhost:8080/"
        },
        "outputId": "848fd420-31e2-475b-b9b3-440d0e00b93c"
      },
      "execution_count": 3,
      "outputs": [
        {
          "output_type": "execute_result",
          "data": {
            "text/plain": [
              "Index(['年齡', '公司戶記號', '性別', '呆帳記號_含信用卡', '客戶年收入', '網路會員記號', '網路使用記號_行動銀行',\n",
              "       '小mma記號', '網路服務記號', '網路使用記號',\n",
              "       ...\n",
              "       '客戶行業別_醫療保健', '客戶行業別_金融業', '客戶行業別_電子業', '對帳單寄送記號_0', '對帳單寄送記號_1',\n",
              "       '對帳單寄送記號_2', '信用卡VIP客戶註記_Y', '外幣存款記號_Y', '信用卡轉呆記號_Y', '信用卡自動扣款記號_Y'],\n",
              "      dtype='object', length=201)"
            ]
          },
          "metadata": {},
          "execution_count": 3
        }
      ],
      "id": "VxlMoTqSMR_l"
    },
    {
      "cell_type": "markdown",
      "source": [
        "## CausalML"
      ],
      "metadata": {
        "id": "uhdRCckfpUwP"
      },
      "id": "uhdRCckfpUwP"
    },
    {
      "cell_type": "code",
      "source": [
        "import importlib\n",
        "print(importlib.metadata.version('scikit-learn') )"
      ],
      "metadata": {
        "colab": {
          "base_uri": "https://localhost:8080/"
        },
        "id": "plfE_ZLa3kuJ",
        "outputId": "b02e5245-b7cc-4de4-8b76-14aca627fc9a"
      },
      "id": "plfE_ZLa3kuJ",
      "execution_count": 4,
      "outputs": [
        {
          "output_type": "stream",
          "name": "stdout",
          "text": [
            "1.2.2\n"
          ]
        }
      ]
    },
    {
      "cell_type": "code",
      "execution_count": 5,
      "metadata": {
        "colab": {
          "base_uri": "https://localhost:8080/",
          "height": 1000
        },
        "outputId": "fd7a8a38-a8f5-4465-f133-ccb40e61984b",
        "id": "_zHlblGBW1Sy"
      },
      "outputs": [
        {
          "output_type": "stream",
          "name": "stderr",
          "text": [
            "/usr/local/lib/python3.10/dist-packages/shap/utils/_clustering.py:35: NumbaDeprecationWarning: The 'nopython' keyword argument was not supplied to the 'numba.jit' decorator. The implicit default value for this argument is currently False, but it will be changed to True in Numba 0.59.0. See https://numba.readthedocs.io/en/stable/reference/deprecation.html#deprecation-of-object-mode-fall-back-behaviour-when-using-jit for details.\n",
            "  def _pt_shuffle_rec(i, indexes, index_mask, partition_tree, M, pos):\n",
            "/usr/local/lib/python3.10/dist-packages/shap/utils/_clustering.py:54: NumbaDeprecationWarning: The 'nopython' keyword argument was not supplied to the 'numba.jit' decorator. The implicit default value for this argument is currently False, but it will be changed to True in Numba 0.59.0. See https://numba.readthedocs.io/en/stable/reference/deprecation.html#deprecation-of-object-mode-fall-back-behaviour-when-using-jit for details.\n",
            "  def delta_minimization_order(all_masks, max_swap_size=100, num_passes=2):\n",
            "/usr/local/lib/python3.10/dist-packages/shap/utils/_clustering.py:63: NumbaDeprecationWarning: The 'nopython' keyword argument was not supplied to the 'numba.jit' decorator. The implicit default value for this argument is currently False, but it will be changed to True in Numba 0.59.0. See https://numba.readthedocs.io/en/stable/reference/deprecation.html#deprecation-of-object-mode-fall-back-behaviour-when-using-jit for details.\n",
            "  def _reverse_window(order, start, length):\n",
            "/usr/local/lib/python3.10/dist-packages/shap/utils/_clustering.py:69: NumbaDeprecationWarning: The 'nopython' keyword argument was not supplied to the 'numba.jit' decorator. The implicit default value for this argument is currently False, but it will be changed to True in Numba 0.59.0. See https://numba.readthedocs.io/en/stable/reference/deprecation.html#deprecation-of-object-mode-fall-back-behaviour-when-using-jit for details.\n",
            "  def _reverse_window_score_gain(masks, order, start, length):\n",
            "/usr/local/lib/python3.10/dist-packages/shap/utils/_clustering.py:77: NumbaDeprecationWarning: The 'nopython' keyword argument was not supplied to the 'numba.jit' decorator. The implicit default value for this argument is currently False, but it will be changed to True in Numba 0.59.0. See https://numba.readthedocs.io/en/stable/reference/deprecation.html#deprecation-of-object-mode-fall-back-behaviour-when-using-jit for details.\n",
            "  def _mask_delta_score(m1, m2):\n",
            "/usr/local/lib/python3.10/dist-packages/shap/links.py:5: NumbaDeprecationWarning: The 'nopython' keyword argument was not supplied to the 'numba.jit' decorator. The implicit default value for this argument is currently False, but it will be changed to True in Numba 0.59.0. See https://numba.readthedocs.io/en/stable/reference/deprecation.html#deprecation-of-object-mode-fall-back-behaviour-when-using-jit for details.\n",
            "  def identity(x):\n",
            "/usr/local/lib/python3.10/dist-packages/shap/links.py:10: NumbaDeprecationWarning: The 'nopython' keyword argument was not supplied to the 'numba.jit' decorator. The implicit default value for this argument is currently False, but it will be changed to True in Numba 0.59.0. See https://numba.readthedocs.io/en/stable/reference/deprecation.html#deprecation-of-object-mode-fall-back-behaviour-when-using-jit for details.\n",
            "  def _identity_inverse(x):\n",
            "/usr/local/lib/python3.10/dist-packages/shap/links.py:15: NumbaDeprecationWarning: The 'nopython' keyword argument was not supplied to the 'numba.jit' decorator. The implicit default value for this argument is currently False, but it will be changed to True in Numba 0.59.0. See https://numba.readthedocs.io/en/stable/reference/deprecation.html#deprecation-of-object-mode-fall-back-behaviour-when-using-jit for details.\n",
            "  def logit(x):\n",
            "/usr/local/lib/python3.10/dist-packages/shap/links.py:20: NumbaDeprecationWarning: The 'nopython' keyword argument was not supplied to the 'numba.jit' decorator. The implicit default value for this argument is currently False, but it will be changed to True in Numba 0.59.0. See https://numba.readthedocs.io/en/stable/reference/deprecation.html#deprecation-of-object-mode-fall-back-behaviour-when-using-jit for details.\n",
            "  def _logit_inverse(x):\n",
            "/usr/local/lib/python3.10/dist-packages/shap/utils/_masked_model.py:363: NumbaDeprecationWarning: The 'nopython' keyword argument was not supplied to the 'numba.jit' decorator. The implicit default value for this argument is currently False, but it will be changed to True in Numba 0.59.0. See https://numba.readthedocs.io/en/stable/reference/deprecation.html#deprecation-of-object-mode-fall-back-behaviour-when-using-jit for details.\n",
            "  def _build_fixed_single_output(averaged_outs, last_outs, outputs, batch_positions, varying_rows, num_varying_rows, link, linearizing_weights):\n",
            "/usr/local/lib/python3.10/dist-packages/shap/utils/_masked_model.py:385: NumbaDeprecationWarning: The 'nopython' keyword argument was not supplied to the 'numba.jit' decorator. The implicit default value for this argument is currently False, but it will be changed to True in Numba 0.59.0. See https://numba.readthedocs.io/en/stable/reference/deprecation.html#deprecation-of-object-mode-fall-back-behaviour-when-using-jit for details.\n",
            "  def _build_fixed_multi_output(averaged_outs, last_outs, outputs, batch_positions, varying_rows, num_varying_rows, link, linearizing_weights):\n",
            "/usr/local/lib/python3.10/dist-packages/shap/utils/_masked_model.py:428: NumbaDeprecationWarning: The 'nopython' keyword argument was not supplied to the 'numba.jit' decorator. The implicit default value for this argument is currently False, but it will be changed to True in Numba 0.59.0. See https://numba.readthedocs.io/en/stable/reference/deprecation.html#deprecation-of-object-mode-fall-back-behaviour-when-using-jit for details.\n",
            "  def _init_masks(cluster_matrix, M, indices_row_pos, indptr):\n",
            "/usr/local/lib/python3.10/dist-packages/shap/utils/_masked_model.py:439: NumbaDeprecationWarning: The 'nopython' keyword argument was not supplied to the 'numba.jit' decorator. The implicit default value for this argument is currently False, but it will be changed to True in Numba 0.59.0. See https://numba.readthedocs.io/en/stable/reference/deprecation.html#deprecation-of-object-mode-fall-back-behaviour-when-using-jit for details.\n",
            "  def _rec_fill_masks(cluster_matrix, indices_row_pos, indptr, indices, M, ind):\n",
            "/usr/local/lib/python3.10/dist-packages/shap/maskers/_tabular.py:186: NumbaDeprecationWarning: The 'nopython' keyword argument was not supplied to the 'numba.jit' decorator. The implicit default value for this argument is currently False, but it will be changed to True in Numba 0.59.0. See https://numba.readthedocs.io/en/stable/reference/deprecation.html#deprecation-of-object-mode-fall-back-behaviour-when-using-jit for details.\n",
            "  def _single_delta_mask(dind, masked_inputs, last_mask, data, x, noop_code):\n",
            "/usr/local/lib/python3.10/dist-packages/shap/maskers/_tabular.py:197: NumbaDeprecationWarning: The 'nopython' keyword argument was not supplied to the 'numba.jit' decorator. The implicit default value for this argument is currently False, but it will be changed to True in Numba 0.59.0. See https://numba.readthedocs.io/en/stable/reference/deprecation.html#deprecation-of-object-mode-fall-back-behaviour-when-using-jit for details.\n",
            "  def _delta_masking(masks, x, curr_delta_inds, varying_rows_out,\n",
            "/usr/local/lib/python3.10/dist-packages/shap/maskers/_image.py:175: NumbaDeprecationWarning: The 'nopython' keyword argument was not supplied to the 'numba.jit' decorator. The implicit default value for this argument is currently False, but it will be changed to True in Numba 0.59.0. See https://numba.readthedocs.io/en/stable/reference/deprecation.html#deprecation-of-object-mode-fall-back-behaviour-when-using-jit for details.\n",
            "  def _jit_build_partition_tree(xmin, xmax, ymin, ymax, zmin, zmax, total_ywidth, total_zwidth, M, clustering, q):\n",
            "/usr/local/lib/python3.10/dist-packages/shap/explainers/_partition.py:676: NumbaDeprecationWarning: The 'nopython' keyword argument was not supplied to the 'numba.jit' decorator. The implicit default value for this argument is currently False, but it will be changed to True in Numba 0.59.0. See https://numba.readthedocs.io/en/stable/reference/deprecation.html#deprecation-of-object-mode-fall-back-behaviour-when-using-jit for details.\n",
            "  def lower_credit(i, value, M, values, clustering):\n",
            "The 'nopython' keyword argument was not supplied to the 'numba.jit' decorator. The implicit default value for this argument is currently False, but it will be changed to True in Numba 0.59.0. See https://numba.readthedocs.io/en/stable/reference/deprecation.html#deprecation-of-object-mode-fall-back-behaviour-when-using-jit for details.\n",
            "The 'nopython' keyword argument was not supplied to the 'numba.jit' decorator. The implicit default value for this argument is currently False, but it will be changed to True in Numba 0.59.0. See https://numba.readthedocs.io/en/stable/reference/deprecation.html#deprecation-of-object-mode-fall-back-behaviour-when-using-jit for details.\n",
            "sklearn.tree._criterion.Criterion size changed, may indicate binary incompatibility. Expected 352 from C header, got 528 from PyObject\n",
            "sklearn.tree._criterion.ClassificationCriterion size changed, may indicate binary incompatibility. Expected 368 from C header, got 1368 from PyObject\n",
            "sklearn.tree._criterion.RegressionCriterion size changed, may indicate binary incompatibility. Expected 360 from C header, got 1160 from PyObject\n",
            "sklearn.tree._splitter.Splitter size changed, may indicate binary incompatibility. Expected 360 from C header, got 1360 from PyObject\n"
          ]
        },
        {
          "output_type": "error",
          "ename": "AttributeError",
          "evalue": "ignored",
          "traceback": [
            "\u001b[0;31m---------------------------------------------------------------------------\u001b[0m",
            "\u001b[0;31mAttributeError\u001b[0m                            Traceback (most recent call last)",
            "\u001b[0;32m<ipython-input-5-edba9a4e3c24>\u001b[0m in \u001b[0;36m<cell line: 5>\u001b[0;34m()\u001b[0m\n\u001b[1;32m      3\u001b[0m \u001b[0;32mimport\u001b[0m \u001b[0mduecredit\u001b[0m\u001b[0;34m\u001b[0m\u001b[0;34m\u001b[0m\u001b[0m\n\u001b[1;32m      4\u001b[0m \u001b[0;34m\u001b[0m\u001b[0m\n\u001b[0;32m----> 5\u001b[0;31m \u001b[0;32mfrom\u001b[0m \u001b[0mcausalml\u001b[0m\u001b[0;34m.\u001b[0m\u001b[0minference\u001b[0m\u001b[0;34m.\u001b[0m\u001b[0mtree\u001b[0m \u001b[0;32mimport\u001b[0m \u001b[0mUpliftRandomForestClassifier\u001b[0m\u001b[0;34m\u001b[0m\u001b[0;34m\u001b[0m\u001b[0m\n\u001b[0m\u001b[1;32m      6\u001b[0m \u001b[0;32mfrom\u001b[0m \u001b[0mcausalml\u001b[0m\u001b[0;34m.\u001b[0m\u001b[0mmetrics\u001b[0m \u001b[0;32mimport\u001b[0m \u001b[0mplot_gain\u001b[0m\u001b[0;34m,\u001b[0m \u001b[0mget_cumgain\u001b[0m\u001b[0;34m\u001b[0m\u001b[0;34m\u001b[0m\u001b[0m\n\u001b[1;32m      7\u001b[0m \u001b[0;32mfrom\u001b[0m \u001b[0msklearn\u001b[0m\u001b[0;34m.\u001b[0m\u001b[0mmodel_selection\u001b[0m \u001b[0;32mimport\u001b[0m \u001b[0mtrain_test_split\u001b[0m\u001b[0;34m\u001b[0m\u001b[0;34m\u001b[0m\u001b[0m\n",
            "\u001b[0;32m/usr/local/lib/python3.10/dist-packages/causalml/inference/tree/__init__.py\u001b[0m in \u001b[0;36m<module>\u001b[0;34m\u001b[0m\n\u001b[0;32m----> 1\u001b[0;31m \u001b[0;32mfrom\u001b[0m \u001b[0;34m.\u001b[0m\u001b[0mcausal\u001b[0m\u001b[0;34m.\u001b[0m\u001b[0mcausaltree\u001b[0m \u001b[0;32mimport\u001b[0m \u001b[0mCausalTreeRegressor\u001b[0m\u001b[0;34m\u001b[0m\u001b[0;34m\u001b[0m\u001b[0m\n\u001b[0m\u001b[1;32m      2\u001b[0m \u001b[0;32mfrom\u001b[0m \u001b[0;34m.\u001b[0m\u001b[0mcausal\u001b[0m\u001b[0;34m.\u001b[0m\u001b[0mcausalforest\u001b[0m \u001b[0;32mimport\u001b[0m \u001b[0mCausalRandomForestRegressor\u001b[0m\u001b[0;34m\u001b[0m\u001b[0;34m\u001b[0m\u001b[0m\n\u001b[1;32m      3\u001b[0m \u001b[0;32mfrom\u001b[0m \u001b[0;34m.\u001b[0m\u001b[0mplot\u001b[0m \u001b[0;32mimport\u001b[0m \u001b[0muplift_tree_string\u001b[0m\u001b[0;34m,\u001b[0m \u001b[0muplift_tree_plot\u001b[0m\u001b[0;34m,\u001b[0m \u001b[0mplot_dist_tree_leaves_values\u001b[0m\u001b[0;34m\u001b[0m\u001b[0;34m\u001b[0m\u001b[0m\n\u001b[1;32m      4\u001b[0m \u001b[0;32mfrom\u001b[0m \u001b[0;34m.\u001b[0m\u001b[0muplift\u001b[0m \u001b[0;32mimport\u001b[0m \u001b[0mDecisionTree\u001b[0m\u001b[0;34m,\u001b[0m \u001b[0mUpliftTreeClassifier\u001b[0m\u001b[0;34m,\u001b[0m \u001b[0mUpliftRandomForestClassifier\u001b[0m\u001b[0;34m\u001b[0m\u001b[0;34m\u001b[0m\u001b[0m\n\u001b[1;32m      5\u001b[0m from .utils import (\n",
            "\u001b[0;32m/usr/local/lib/python3.10/dist-packages/causalml/inference/tree/causal/causaltree.py\u001b[0m in \u001b[0;36m<module>\u001b[0;34m\u001b[0m\n\u001b[1;32m     13\u001b[0m \u001b[0;34m\u001b[0m\u001b[0m\n\u001b[1;32m     14\u001b[0m \u001b[0;32mfrom\u001b[0m \u001b[0mcausalml\u001b[0m\u001b[0;34m.\u001b[0m\u001b[0minference\u001b[0m\u001b[0;34m.\u001b[0m\u001b[0mmeta\u001b[0m\u001b[0;34m.\u001b[0m\u001b[0mutils\u001b[0m \u001b[0;32mimport\u001b[0m \u001b[0mcheck_treatment_vector\u001b[0m\u001b[0;34m\u001b[0m\u001b[0;34m\u001b[0m\u001b[0m\n\u001b[0;32m---> 15\u001b[0;31m \u001b[0;32mfrom\u001b[0m \u001b[0;34m.\u001b[0m\u001b[0m_tree\u001b[0m \u001b[0;32mimport\u001b[0m \u001b[0mBaseCausalDecisionTree\u001b[0m\u001b[0;34m\u001b[0m\u001b[0;34m\u001b[0m\u001b[0m\n\u001b[0m\u001b[1;32m     16\u001b[0m \u001b[0;32mfrom\u001b[0m \u001b[0;34m.\u001b[0m\u001b[0;34m.\u001b[0m\u001b[0mutils\u001b[0m \u001b[0;32mimport\u001b[0m \u001b[0mget_tree_leaves_mask\u001b[0m\u001b[0;34m,\u001b[0m \u001b[0mtimeit\u001b[0m\u001b[0;34m\u001b[0m\u001b[0;34m\u001b[0m\u001b[0m\n\u001b[1;32m     17\u001b[0m \u001b[0;34m\u001b[0m\u001b[0m\n",
            "\u001b[0;32m/usr/local/lib/python3.10/dist-packages/causalml/inference/tree/causal/_tree.py\u001b[0m in \u001b[0;36m<module>\u001b[0;34m\u001b[0m\n\u001b[1;32m     14\u001b[0m \u001b[0;32mfrom\u001b[0m \u001b[0msklearn\u001b[0m\u001b[0;34m.\u001b[0m\u001b[0mutils\u001b[0m\u001b[0;34m.\u001b[0m\u001b[0mvalidation\u001b[0m \u001b[0;32mimport\u001b[0m \u001b[0m_check_sample_weight\u001b[0m\u001b[0;34m\u001b[0m\u001b[0;34m\u001b[0m\u001b[0m\n\u001b[1;32m     15\u001b[0m \u001b[0;34m\u001b[0m\u001b[0m\n\u001b[0;32m---> 16\u001b[0;31m \u001b[0;32mfrom\u001b[0m \u001b[0;34m.\u001b[0m\u001b[0m_builder\u001b[0m \u001b[0;32mimport\u001b[0m \u001b[0mDepthFirstCausalTreeBuilder\u001b[0m\u001b[0;34m,\u001b[0m \u001b[0mBestFirstCausalTreeBuilder\u001b[0m\u001b[0;34m\u001b[0m\u001b[0;34m\u001b[0m\u001b[0m\n\u001b[0m\u001b[1;32m     17\u001b[0m \u001b[0;32mfrom\u001b[0m \u001b[0;34m.\u001b[0m\u001b[0m_criterion\u001b[0m \u001b[0;32mimport\u001b[0m \u001b[0mStandardMSE\u001b[0m\u001b[0;34m,\u001b[0m \u001b[0mCausalMSE\u001b[0m\u001b[0;34m,\u001b[0m \u001b[0mTTest\u001b[0m\u001b[0;34m\u001b[0m\u001b[0;34m\u001b[0m\u001b[0m\n\u001b[1;32m     18\u001b[0m \u001b[0;34m\u001b[0m\u001b[0m\n",
            "\u001b[0;32m/usr/local/lib/python3.10/dist-packages/causalml/inference/tree/causal/_builder.pyx\u001b[0m in \u001b[0;36minit causalml.inference.tree.causal._builder\u001b[0;34m()\u001b[0m\n",
            "\u001b[0;31mAttributeError\u001b[0m: module 'sklearn.tree._utils' has no attribute 'Stack'"
          ]
        }
      ],
      "source": [
        "import numpy as np\n",
        "import pandas as pd\n",
        "import duecredit\n",
        "\n",
        "from causalml.inference.tree import UpliftRandomForestClassifier\n",
        "from causalml.metrics import plot_gain, get_cumgain\n",
        "from sklearn.model_selection import train_test_split\n",
        "\n",
        "import importlib\n",
        "print(importlib.metadata.version('causalml') )"
      ],
      "id": "_zHlblGBW1Sy"
    },
    {
      "cell_type": "code",
      "source": [
        "%%time\n",
        "import pickle\n",
        "def load_model(model_path):\n",
        "   \"\"\"Load a pickled model.\"\"\"\n",
        "   return pickle.load(open(model_path, \"rb\"))\n",
        "\n",
        "def get_results(model_index, df, data, model_prefix=\"CasualML_uplift_202306_\"):\n",
        "   \"\"\"Run model predictions and update DataFrame.\"\"\"\n",
        "   model_path = f\"/content/drive/MyDrive/Model/{model_prefix}{model_index}.pkl\"\n",
        "   model = load_model(model_path)\n",
        "   df_res = model.predict(data, full_output=True)\n",
        "   df[f'Uplift_{model_index}|T=0'] = df_res.iloc[:, 0]\n",
        "   df[f'Uplift_{model_index}|T=1'] = df_res.iloc[:, 1]\n",
        "   print(f'Finish running uplift_new_{model_index}')\n",
        "   return df\n",
        "\n",
        "def calculate_mean_uplifts(res, model_count=5):\n",
        "   \"\"\"Calculate mean uplifts and return a DataFrame.\"\"\"\n",
        "   T = [f'Uplift_{i}|T=0' for i in range(1, model_count + 1)]\n",
        "   T1 = [f'Uplift_{i}|T=1' for i in range(1, model_count + 1)]\n",
        "   res_columns = res[T + T1]\n",
        "   pred = pd.DataFrame()\n",
        "   pred['Uplift_mean|T=0'] = res_columns[T].mean(axis=1)\n",
        "   pred['Uplift_mean|T=1'] = res_columns[T1].mean(axis=1)\n",
        "   pred['Uplift_mean'] = pred['Uplift_mean|T=1'] - pred['Uplift_mean|T=0']\n",
        "   return pred\n",
        "\n",
        "# Example usage\n",
        "res_df = pd.DataFrame()\n",
        "for i in range(1, 6):\n",
        "   res_df = get_results(i, res_df, oct_data)\n",
        "pred = calculate_mean_uplifts(res_df)\n",
        "pred"
      ],
      "metadata": {
        "id": "BhTo7QWin6cS"
      },
      "id": "BhTo7QWin6cS",
      "execution_count": null,
      "outputs": []
    },
    {
      "cell_type": "code",
      "source": [
        "#暫存causalml的結果\n",
        "pred.to_csv('temp.csv')"
      ],
      "metadata": {
        "id": "6VZg9_7VAM10"
      },
      "id": "6VZg9_7VAM10",
      "execution_count": null,
      "outputs": []
    },
    {
      "cell_type": "markdown",
      "source": [
        "##X-Learner"
      ],
      "metadata": {
        "id": "isQ6kZ2apYLk"
      },
      "id": "isQ6kZ2apYLk"
    },
    {
      "cell_type": "code",
      "source": [
        "!pip install scikit-learn==1.2.2\n",
        "!pip install --upgrade DecisionTreeClassifier"
      ],
      "metadata": {
        "id": "WFHA8Qx2-zGw"
      },
      "id": "WFHA8Qx2-zGw",
      "execution_count": null,
      "outputs": []
    },
    {
      "source": [
        "#避免版本衝突，重新下載之後重啟\n",
        "%restart"
      ],
      "cell_type": "code",
      "metadata": {
        "id": "Cg206bHEY7jM"
      },
      "id": "Cg206bHEY7jM",
      "execution_count": null,
      "outputs": []
    },
    {
      "cell_type": "code",
      "source": [
        "import importlib\n",
        "print(importlib.metadata.version('scikit-learn') )"
      ],
      "metadata": {
        "id": "gu0fwPcUY6k5"
      },
      "id": "gu0fwPcUY6k5",
      "execution_count": null,
      "outputs": []
    },
    {
      "cell_type": "code",
      "source": [
        "import pandas as pd\n",
        "import numpy as np\n",
        "\n",
        "# Load your May data\n",
        "oct_data = pd.read_csv('/content/data202311.csv', index_col=0)\n",
        "\n",
        "unino = oct_data['UNINO']\n",
        "oct_data.drop(['換匯發送名單','TOTALNTAMOUNT', '跨售行為', 'UNINO'], axis = 'columns', inplace = True)\n",
        "\n",
        "#201 columns\n",
        "oct_data.columns"
      ],
      "metadata": {
        "id": "vpeAhWWcAbpU"
      },
      "id": "vpeAhWWcAbpU",
      "execution_count": null,
      "outputs": []
    },
    {
      "cell_type": "code",
      "source": [
        "!pip install econml"
      ],
      "metadata": {
        "id": "x9vbmaMv56Ft"
      },
      "id": "x9vbmaMv56Ft",
      "execution_count": null,
      "outputs": []
    },
    {
      "cell_type": "code",
      "source": [
        "# Main imports\n",
        "from econml.metalearners import XLearner\n",
        "\n",
        "# Helper imports\n",
        "import numpy as np\n",
        "from numpy.random import binomial, multivariate_normal, normal, uniform\n",
        "from sklearn.linear_model import LinearRegression\n",
        "from sklearn.ensemble import RandomForestRegressor, RandomForestClassifier, GradientBoostingRegressor\n",
        "import matplotlib.pyplot as plt\n",
        "\n",
        "%matplotlib inline"
      ],
      "metadata": {
        "id": "UqbsA7B9u4Mu"
      },
      "execution_count": null,
      "outputs": [],
      "id": "UqbsA7B9u4Mu"
    },
    {
      "cell_type": "code",
      "source": [
        "%%time\n",
        "import pickle\n",
        "import pandas as pd\n",
        "\n",
        "def get_other_results(model_list, name_list, df, data):\n",
        "  for i in range(len(model_list)):\n",
        "    with open (\"/content/drive/MyDrive/Model/\"+ model_list[i], \"rb\") as file:\n",
        "      est = pickle.load(file)\n",
        "    if i ==2:\n",
        "      df[name_list[i]] = est.predict(data)\n",
        "    else :\n",
        "      df[name_list[i]] = est.effect(data)\n",
        "  return df\n",
        "\n",
        "##使用\n",
        "pred = pd.read_csv('temp.csv', index_col = 0)\n",
        "pred.insert(0, '換匯基因標籤', oct_data['換匯基因標籤'].values)\n",
        "pred.insert(0, 'UNINO', unino.values)\n",
        "model_list = ['EconML_X_202306_new_1.pkl', 'Value_EconML_X_202306.pkl', 'Econml_RF_202306_new.pkl', 'Econml_CF_202306_new.pkl']\n",
        "name_list = ['X_te_2', 'Value_X', 'E(V)|T = 0, D = 1', 'te']\n",
        "pred = get_other_results(model_list, name_list, pred, oct_data)\n",
        "pred['E(V)|T = 1, D = 1'] = pred['E(V)|T = 0, D = 1'] + pred['te']\n",
        "pred\n",
        "#pred.to_csv('/content/drive/MyDrive/Sinopac/Results/Prediction_results_202311.csv')\n",
        "#1066146 rows × 10 columns"
      ],
      "metadata": {
        "id": "6yVKwRC6rS-a"
      },
      "id": "6yVKwRC6rS-a",
      "execution_count": null,
      "outputs": []
    },
    {
      "cell_type": "code",
      "source": [
        "pred.describe()"
      ],
      "metadata": {
        "id": "Hj60LZHH1hcA"
      },
      "execution_count": null,
      "outputs": [],
      "id": "Hj60LZHH1hcA"
    },
    {
      "cell_type": "code",
      "source": [
        "res = pd.DataFrame()\n",
        "res = pred.iloc[:,:7]\n",
        "res['X_te_2'] = pred['X_te_2']\n",
        "res['E(V)|X,T = 0'] = pred['Uplift_mean|T=0'] * pred['E(V)|T = 0, D = 1']\n",
        "res['E(V)|X,T = 1'] = pred['Uplift_mean|T=1'] * pred['E(V)|T = 1, D = 1']\n",
        "res['Gi'] = res['E(V)|X,T = 1']-res['E(V)|X,T = 0']\n",
        "#res['Value_mean'] = pred['Value_mean']\n",
        "res\n",
        "#res.to_csv('/content/drive/MyDrive/Sinopac/Results/Prediction_results_All_202311.csv')\n",
        "#1066146 rows × 10 columns"
      ],
      "metadata": {
        "id": "DxCycjztr-nj"
      },
      "execution_count": null,
      "outputs": [],
      "id": "DxCycjztr-nj"
    },
    {
      "cell_type": "code",
      "source": [
        "res[['Gi', 'Value_X']].describe()"
      ],
      "metadata": {
        "id": "1ZGsUZzgbaow"
      },
      "execution_count": null,
      "outputs": [],
      "id": "1ZGsUZzgbaow"
    },
    {
      "cell_type": "code",
      "source": [
        "res['Gi'].corr(res['Value_X'])"
      ],
      "metadata": {
        "id": "7mxylmfp2OC_"
      },
      "execution_count": null,
      "outputs": [],
      "id": "7mxylmfp2OC_"
    },
    {
      "cell_type": "markdown",
      "source": [
        "##Plot"
      ],
      "metadata": {
        "id": "icXd0Me4uqat"
      },
      "id": "icXd0Me4uqat"
    },
    {
      "cell_type": "code",
      "source": [
        "import pandas as pd\n",
        "pred = pd.read_csv('/content/drive/MyDrive/Sinopac/Results/Prediction_results_202311.csv', index_col = 0)\n",
        "res = pd.read_csv('/content/drive/MyDrive/Sinopac/Results/Prediction_results_All_202311.csv', index_col = 0)\n",
        "res"
      ],
      "metadata": {
        "id": "bHKyDwgHr-nj"
      },
      "execution_count": null,
      "outputs": [],
      "id": "bHKyDwgHr-nj"
    },
    {
      "cell_type": "code",
      "source": [
        "# Import libraries\n",
        "import matplotlib.pyplot as plt\n",
        "import numpy as np\n",
        "\n",
        "plt.figure(figsize=(15, 5))\n",
        "\n",
        "plt.subplot(121)\n",
        "plt.scatter(res.iloc[:,1], res['X_te_2'])\n",
        "plt.xlabel('Gene PR')\n",
        "plt.ylabel('X-Learner(pred)')\n",
        "plt.subplot(122)\n",
        "plt.scatter(res.iloc[:,1], res.iloc[:,-1])\n",
        "plt.xlabel('Gene PR')\n",
        "plt.ylabel('Gi(pred)')\n",
        "plt.legend()"
      ],
      "metadata": {
        "id": "0dhgZrmkuoCF"
      },
      "execution_count": null,
      "outputs": [],
      "id": "0dhgZrmkuoCF"
    },
    {
      "cell_type": "code",
      "source": [
        "# Import libraries\n",
        "import matplotlib.pyplot as plt\n",
        "import numpy as np\n",
        "\n",
        "plt.figure(figsize =(15, 10))\n",
        "\n",
        "plt.subplot(141)\n",
        "plt.boxplot(res['Uplift_mean'], labels=['Uplift_mean'])\n",
        "# Creating plot\n",
        "plt.subplot(142)\n",
        "plt.boxplot(res['X_te_2'], labels=['X-Learner'])\n",
        "plt.subplot(143)\n",
        "plt.boxplot(res[['Uplift_mean|T=0', 'Uplift_mean|T=1']], labels=['Uplift|T=0', 'Uplift|T=1'])\n",
        "plt.subplot(144)\n",
        "plt.boxplot(res[['E(V)|X,T = 0', 'E(V)|X,T = 1']], labels=['E(V)|T=0', 'E(V)|T=1'])\n",
        "\n",
        "# show plot\n",
        "plt.show()"
      ],
      "metadata": {
        "id": "cjI7I_9u20tN"
      },
      "execution_count": null,
      "outputs": [],
      "id": "cjI7I_9u20tN"
    }
  ],
  "metadata": {
    "kernelspec": {
      "display_name": "Python 3 (ipykernel)",
      "language": "python",
      "name": "python3"
    },
    "language_info": {
      "codemirror_mode": {
        "name": "ipython",
        "version": 3
      },
      "file_extension": ".py",
      "mimetype": "text/x-python",
      "name": "python",
      "nbconvert_exporter": "python",
      "pygments_lexer": "ipython3",
      "version": "3.10.9"
    },
    "colab": {
      "provenance": [],
      "toc_visible": true
    }
  },
  "nbformat": 4,
  "nbformat_minor": 5
}
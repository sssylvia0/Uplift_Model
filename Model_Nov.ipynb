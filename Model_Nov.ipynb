{
  "cells": [
    {
      "cell_type": "markdown",
      "metadata": {
        "id": "view-in-github",
        "colab_type": "text"
      },
      "source": [
        "<a href=\"https://colab.research.google.com/github/sssylvia0/Uplift_Model/blob/main/Model_Nov.ipynb\" target=\"_parent\"><img src=\"https://colab.research.google.com/assets/colab-badge.svg\" alt=\"Open In Colab\"/></a>"
      ]
    },
    {
      "cell_type": "markdown",
      "source": [
        "#Uplift and Profit prediction\n",
        "\n",
        "1. Model (Traning Data: data202306.csv)\n",
        "\n",
        "*  **Uplift**:  CasualML_uplift_202306_1-5.pkl\n",
        "\n",
        "* **X-Learner**:  'EconML_X_202306_new_1.pkl', 'Value_EconML_X_202306.pkl',\n",
        "\n",
        "*   **Profit**:  Econml_RF_202306.pkl, Econml_CF_202306.pkl\n",
        "\n",
        "2. Time：約20分鐘\n",
        "   \n",
        "   需要手動重啟!\n",
        "\n",
        "\n",
        "\n"
      ],
      "metadata": {
        "id": "qPMlkRJ_r-na"
      },
      "id": "qPMlkRJ_r-na"
    },
    {
      "cell_type": "code",
      "source": [
        "from google.colab import drive\n",
        "drive.mount('/content/drive')"
      ],
      "metadata": {
        "colab": {
          "base_uri": "https://localhost:8080/"
        },
        "outputId": "c57083af-424c-46ab-e277-a9275485c1c2",
        "id": "QSw_XSQikBl9"
      },
      "execution_count": 6,
      "outputs": [
        {
          "output_type": "stream",
          "name": "stdout",
          "text": [
            "Drive already mounted at /content/drive; to attempt to forcibly remount, call drive.mount(\"/content/drive\", force_remount=True).\n"
          ]
        }
      ],
      "id": "QSw_XSQikBl9"
    },
    {
      "cell_type": "code",
      "source": [
        "import zipfile\n",
        "\n",
        "# Specify the path to the zip file\n",
        "#zip_file_path = 'data202305.csv.zip'\n",
        "zip_file_path = '/content/drive/MyDrive/Sinopac/Rawdata/data202311.csv.zip'\n",
        "\n",
        "\n",
        "# Unzip the folder\n",
        "with zipfile.ZipFile(zip_file_path, 'r') as zip_ref:\n",
        "    zip_ref.extractall('/content/')\n",
        "print(\"Unzipped successfully.\")"
      ],
      "metadata": {
        "outputId": "167fb9c9-d0bb-4a36-e1a3-90bfda9e6e13",
        "colab": {
          "base_uri": "https://localhost:8080/"
        },
        "id": "8eC-Gu9lkBl9"
      },
      "execution_count": 7,
      "outputs": [
        {
          "output_type": "stream",
          "name": "stdout",
          "text": [
            "Unzipped successfully.\n"
          ]
        }
      ],
      "id": "8eC-Gu9lkBl9"
    },
    {
      "cell_type": "code",
      "source": [
        "import pandas as pd\n",
        "import numpy as np\n",
        "\n",
        "# Load your May data\n",
        "oct_data = pd.read_csv('/content/data202311.csv', index_col=0)\n",
        "\n",
        "unino = oct_data['UNINO']\n",
        "oct_data.drop(['換匯發送名單','TOTALNTAMOUNT', '跨售行為', 'UNINO'], axis = 'columns', inplace = True)\n",
        "\n",
        "#201 columns\n",
        "oct_data.columns"
      ],
      "metadata": {
        "id": "VxlMoTqSMR_l",
        "colab": {
          "base_uri": "https://localhost:8080/"
        },
        "outputId": "5bfefee4-161e-426e-a4fc-c4fb9da24a5a"
      },
      "execution_count": 8,
      "outputs": [
        {
          "output_type": "execute_result",
          "data": {
            "text/plain": [
              "Index(['年齡', '公司戶記號', '性別', '呆帳記號_含信用卡', '客戶年收入', '網路會員記號', '網路使用記號_行動銀行',\n",
              "       '小mma記號', '網路服務記號', '網路使用記號',\n",
              "       ...\n",
              "       '客戶行業別_醫療保健', '客戶行業別_金融業', '客戶行業別_電子業', '對帳單寄送記號_0', '對帳單寄送記號_1',\n",
              "       '對帳單寄送記號_2', '信用卡VIP客戶註記_Y', '外幣存款記號_Y', '信用卡轉呆記號_Y', '信用卡自動扣款記號_Y'],\n",
              "      dtype='object', length=201)"
            ]
          },
          "metadata": {},
          "execution_count": 8
        }
      ],
      "id": "VxlMoTqSMR_l"
    },
    {
      "cell_type": "markdown",
      "source": [
        "## CausalML"
      ],
      "metadata": {
        "id": "uhdRCckfpUwP"
      },
      "id": "uhdRCckfpUwP"
    },
    {
      "cell_type": "code",
      "source": [
        "!pip install causalml"
      ],
      "metadata": {
        "id": "SE3g48o1crye",
        "outputId": "c95ba1e8-f7b1-47c8-cb37-5813398d7065",
        "colab": {
          "base_uri": "https://localhost:8080/"
        }
      },
      "id": "SE3g48o1crye",
      "execution_count": 2,
      "outputs": [
        {
          "output_type": "stream",
          "name": "stdout",
          "text": [
            "Requirement already satisfied: causalml in /usr/local/lib/python3.10/dist-packages (0.14.1)\n",
            "Requirement already satisfied: forestci==0.6 in /usr/local/lib/python3.10/dist-packages (from causalml) (0.6)\n",
            "Requirement already satisfied: pathos==0.2.9 in /usr/local/lib/python3.10/dist-packages (from causalml) (0.2.9)\n",
            "Requirement already satisfied: pip>=10.0 in /usr/local/lib/python3.10/dist-packages (from causalml) (23.1.2)\n",
            "Requirement already satisfied: numpy<1.24 in /usr/local/lib/python3.10/dist-packages (from causalml) (1.23.5)\n",
            "Requirement already satisfied: scipy>=1.4.1 in /usr/local/lib/python3.10/dist-packages (from causalml) (1.11.4)\n",
            "Requirement already satisfied: matplotlib in /usr/local/lib/python3.10/dist-packages (from causalml) (3.7.1)\n",
            "Requirement already satisfied: pandas<1.4.0,>=0.24.1 in /usr/local/lib/python3.10/dist-packages (from causalml) (1.3.5)\n",
            "Requirement already satisfied: scikit-learn<=1.0.2 in /usr/local/lib/python3.10/dist-packages (from causalml) (1.0.2)\n",
            "Requirement already satisfied: statsmodels>=0.9.0 in /usr/local/lib/python3.10/dist-packages (from causalml) (0.14.0)\n",
            "Requirement already satisfied: Cython<=0.29.34 in /usr/local/lib/python3.10/dist-packages (from causalml) (0.29.34)\n",
            "Requirement already satisfied: seaborn in /usr/local/lib/python3.10/dist-packages (from causalml) (0.12.2)\n",
            "Requirement already satisfied: xgboost in /usr/local/lib/python3.10/dist-packages (from causalml) (2.0.2)\n",
            "Requirement already satisfied: pydotplus in /usr/local/lib/python3.10/dist-packages (from causalml) (2.0.2)\n",
            "Requirement already satisfied: tqdm in /usr/local/lib/python3.10/dist-packages (from causalml) (4.66.1)\n",
            "Requirement already satisfied: shap in /usr/local/lib/python3.10/dist-packages (from causalml) (0.41.0)\n",
            "Requirement already satisfied: dill in /usr/local/lib/python3.10/dist-packages (from causalml) (0.3.7)\n",
            "Requirement already satisfied: lightgbm in /usr/local/lib/python3.10/dist-packages (from causalml) (4.1.0)\n",
            "Requirement already satisfied: pygam in /usr/local/lib/python3.10/dist-packages (from causalml) (0.8.0)\n",
            "Requirement already satisfied: packaging in /usr/local/lib/python3.10/dist-packages (from causalml) (23.2)\n",
            "Requirement already satisfied: torch in /usr/local/lib/python3.10/dist-packages (from causalml) (2.1.0+cu118)\n",
            "Requirement already satisfied: pyro-ppl in /usr/local/lib/python3.10/dist-packages (from causalml) (1.8.6)\n",
            "Requirement already satisfied: graphviz in /usr/local/lib/python3.10/dist-packages (from causalml) (0.20.1)\n",
            "Requirement already satisfied: ppft>=1.7.6.5 in /usr/local/lib/python3.10/dist-packages (from pathos==0.2.9->causalml) (1.7.6.7)\n",
            "Requirement already satisfied: pox>=0.3.1 in /usr/local/lib/python3.10/dist-packages (from pathos==0.2.9->causalml) (0.3.3)\n",
            "Requirement already satisfied: multiprocess>=0.70.13 in /usr/local/lib/python3.10/dist-packages (from pathos==0.2.9->causalml) (0.70.15)\n",
            "Requirement already satisfied: python-dateutil>=2.7.3 in /usr/local/lib/python3.10/dist-packages (from pandas<1.4.0,>=0.24.1->causalml) (2.8.2)\n",
            "Requirement already satisfied: pytz>=2017.3 in /usr/local/lib/python3.10/dist-packages (from pandas<1.4.0,>=0.24.1->causalml) (2023.3.post1)\n",
            "Requirement already satisfied: joblib>=0.11 in /usr/local/lib/python3.10/dist-packages (from scikit-learn<=1.0.2->causalml) (1.3.2)\n",
            "Requirement already satisfied: threadpoolctl>=2.0.0 in /usr/local/lib/python3.10/dist-packages (from scikit-learn<=1.0.2->causalml) (3.2.0)\n",
            "Requirement already satisfied: patsy>=0.5.2 in /usr/local/lib/python3.10/dist-packages (from statsmodels>=0.9.0->causalml) (0.5.3)\n",
            "Requirement already satisfied: contourpy>=1.0.1 in /usr/local/lib/python3.10/dist-packages (from matplotlib->causalml) (1.2.0)\n",
            "Requirement already satisfied: cycler>=0.10 in /usr/local/lib/python3.10/dist-packages (from matplotlib->causalml) (0.12.1)\n",
            "Requirement already satisfied: fonttools>=4.22.0 in /usr/local/lib/python3.10/dist-packages (from matplotlib->causalml) (4.45.1)\n",
            "Requirement already satisfied: kiwisolver>=1.0.1 in /usr/local/lib/python3.10/dist-packages (from matplotlib->causalml) (1.4.5)\n",
            "Requirement already satisfied: pillow>=6.2.0 in /usr/local/lib/python3.10/dist-packages (from matplotlib->causalml) (9.4.0)\n",
            "Requirement already satisfied: pyparsing>=2.3.1 in /usr/local/lib/python3.10/dist-packages (from matplotlib->causalml) (3.1.1)\n",
            "Requirement already satisfied: future in /usr/local/lib/python3.10/dist-packages (from pygam->causalml) (0.18.3)\n",
            "Requirement already satisfied: progressbar2 in /usr/local/lib/python3.10/dist-packages (from pygam->causalml) (4.2.0)\n",
            "Requirement already satisfied: opt-einsum>=2.3.2 in /usr/local/lib/python3.10/dist-packages (from pyro-ppl->causalml) (3.3.0)\n",
            "Requirement already satisfied: pyro-api>=0.1.1 in /usr/local/lib/python3.10/dist-packages (from pyro-ppl->causalml) (0.1.2)\n",
            "Requirement already satisfied: filelock in /usr/local/lib/python3.10/dist-packages (from torch->causalml) (3.13.1)\n",
            "Requirement already satisfied: typing-extensions in /usr/local/lib/python3.10/dist-packages (from torch->causalml) (4.5.0)\n",
            "Requirement already satisfied: sympy in /usr/local/lib/python3.10/dist-packages (from torch->causalml) (1.12)\n",
            "Requirement already satisfied: networkx in /usr/local/lib/python3.10/dist-packages (from torch->causalml) (3.2.1)\n",
            "Requirement already satisfied: jinja2 in /usr/local/lib/python3.10/dist-packages (from torch->causalml) (3.1.2)\n",
            "Requirement already satisfied: fsspec in /usr/local/lib/python3.10/dist-packages (from torch->causalml) (2023.6.0)\n",
            "Requirement already satisfied: triton==2.1.0 in /usr/local/lib/python3.10/dist-packages (from torch->causalml) (2.1.0)\n",
            "Requirement already satisfied: slicer==0.0.7 in /usr/local/lib/python3.10/dist-packages (from shap->causalml) (0.0.7)\n",
            "Requirement already satisfied: numba in /usr/local/lib/python3.10/dist-packages (from shap->causalml) (0.58.1)\n",
            "Requirement already satisfied: cloudpickle in /usr/local/lib/python3.10/dist-packages (from shap->causalml) (2.2.1)\n",
            "Requirement already satisfied: six in /usr/local/lib/python3.10/dist-packages (from patsy>=0.5.2->statsmodels>=0.9.0->causalml) (1.16.0)\n",
            "Requirement already satisfied: MarkupSafe>=2.0 in /usr/local/lib/python3.10/dist-packages (from jinja2->torch->causalml) (2.1.3)\n",
            "Requirement already satisfied: llvmlite<0.42,>=0.41.0dev0 in /usr/local/lib/python3.10/dist-packages (from numba->shap->causalml) (0.41.1)\n",
            "Requirement already satisfied: python-utils>=3.0.0 in /usr/local/lib/python3.10/dist-packages (from progressbar2->pygam->causalml) (3.8.1)\n",
            "Requirement already satisfied: mpmath>=0.19 in /usr/local/lib/python3.10/dist-packages (from sympy->torch->causalml) (1.3.0)\n"
          ]
        }
      ]
    },
    {
      "cell_type": "code",
      "source": [
        "import importlib\n",
        "print(importlib.metadata.version('scikit-learn') )"
      ],
      "metadata": {
        "colab": {
          "base_uri": "https://localhost:8080/"
        },
        "id": "plfE_ZLa3kuJ",
        "outputId": "cfeed948-87d0-49e0-8c54-4fd1b7aca967"
      },
      "id": "plfE_ZLa3kuJ",
      "execution_count": 1,
      "outputs": [
        {
          "output_type": "stream",
          "name": "stdout",
          "text": [
            "1.0.2\n"
          ]
        }
      ]
    },
    {
      "cell_type": "code",
      "execution_count": 3,
      "metadata": {
        "colab": {
          "base_uri": "https://localhost:8080/"
        },
        "outputId": "bdee951a-520e-4e73-d4a5-19cdffe06a43",
        "id": "_zHlblGBW1Sy"
      },
      "outputs": [
        {
          "output_type": "stream",
          "name": "stderr",
          "text": [
            "/usr/local/lib/python3.10/dist-packages/shap/utils/_clustering.py:35: NumbaDeprecationWarning: The 'nopython' keyword argument was not supplied to the 'numba.jit' decorator. The implicit default value for this argument is currently False, but it will be changed to True in Numba 0.59.0. See https://numba.readthedocs.io/en/stable/reference/deprecation.html#deprecation-of-object-mode-fall-back-behaviour-when-using-jit for details.\n",
            "  def _pt_shuffle_rec(i, indexes, index_mask, partition_tree, M, pos):\n",
            "/usr/local/lib/python3.10/dist-packages/shap/utils/_clustering.py:54: NumbaDeprecationWarning: The 'nopython' keyword argument was not supplied to the 'numba.jit' decorator. The implicit default value for this argument is currently False, but it will be changed to True in Numba 0.59.0. See https://numba.readthedocs.io/en/stable/reference/deprecation.html#deprecation-of-object-mode-fall-back-behaviour-when-using-jit for details.\n",
            "  def delta_minimization_order(all_masks, max_swap_size=100, num_passes=2):\n",
            "/usr/local/lib/python3.10/dist-packages/shap/utils/_clustering.py:63: NumbaDeprecationWarning: The 'nopython' keyword argument was not supplied to the 'numba.jit' decorator. The implicit default value for this argument is currently False, but it will be changed to True in Numba 0.59.0. See https://numba.readthedocs.io/en/stable/reference/deprecation.html#deprecation-of-object-mode-fall-back-behaviour-when-using-jit for details.\n",
            "  def _reverse_window(order, start, length):\n",
            "/usr/local/lib/python3.10/dist-packages/shap/utils/_clustering.py:69: NumbaDeprecationWarning: The 'nopython' keyword argument was not supplied to the 'numba.jit' decorator. The implicit default value for this argument is currently False, but it will be changed to True in Numba 0.59.0. See https://numba.readthedocs.io/en/stable/reference/deprecation.html#deprecation-of-object-mode-fall-back-behaviour-when-using-jit for details.\n",
            "  def _reverse_window_score_gain(masks, order, start, length):\n",
            "/usr/local/lib/python3.10/dist-packages/shap/utils/_clustering.py:77: NumbaDeprecationWarning: The 'nopython' keyword argument was not supplied to the 'numba.jit' decorator. The implicit default value for this argument is currently False, but it will be changed to True in Numba 0.59.0. See https://numba.readthedocs.io/en/stable/reference/deprecation.html#deprecation-of-object-mode-fall-back-behaviour-when-using-jit for details.\n",
            "  def _mask_delta_score(m1, m2):\n",
            "/usr/local/lib/python3.10/dist-packages/shap/links.py:5: NumbaDeprecationWarning: The 'nopython' keyword argument was not supplied to the 'numba.jit' decorator. The implicit default value for this argument is currently False, but it will be changed to True in Numba 0.59.0. See https://numba.readthedocs.io/en/stable/reference/deprecation.html#deprecation-of-object-mode-fall-back-behaviour-when-using-jit for details.\n",
            "  def identity(x):\n",
            "/usr/local/lib/python3.10/dist-packages/shap/links.py:10: NumbaDeprecationWarning: The 'nopython' keyword argument was not supplied to the 'numba.jit' decorator. The implicit default value for this argument is currently False, but it will be changed to True in Numba 0.59.0. See https://numba.readthedocs.io/en/stable/reference/deprecation.html#deprecation-of-object-mode-fall-back-behaviour-when-using-jit for details.\n",
            "  def _identity_inverse(x):\n",
            "/usr/local/lib/python3.10/dist-packages/shap/links.py:15: NumbaDeprecationWarning: The 'nopython' keyword argument was not supplied to the 'numba.jit' decorator. The implicit default value for this argument is currently False, but it will be changed to True in Numba 0.59.0. See https://numba.readthedocs.io/en/stable/reference/deprecation.html#deprecation-of-object-mode-fall-back-behaviour-when-using-jit for details.\n",
            "  def logit(x):\n",
            "/usr/local/lib/python3.10/dist-packages/shap/links.py:20: NumbaDeprecationWarning: The 'nopython' keyword argument was not supplied to the 'numba.jit' decorator. The implicit default value for this argument is currently False, but it will be changed to True in Numba 0.59.0. See https://numba.readthedocs.io/en/stable/reference/deprecation.html#deprecation-of-object-mode-fall-back-behaviour-when-using-jit for details.\n",
            "  def _logit_inverse(x):\n",
            "/usr/local/lib/python3.10/dist-packages/shap/utils/_masked_model.py:363: NumbaDeprecationWarning: The 'nopython' keyword argument was not supplied to the 'numba.jit' decorator. The implicit default value for this argument is currently False, but it will be changed to True in Numba 0.59.0. See https://numba.readthedocs.io/en/stable/reference/deprecation.html#deprecation-of-object-mode-fall-back-behaviour-when-using-jit for details.\n",
            "  def _build_fixed_single_output(averaged_outs, last_outs, outputs, batch_positions, varying_rows, num_varying_rows, link, linearizing_weights):\n",
            "/usr/local/lib/python3.10/dist-packages/shap/utils/_masked_model.py:385: NumbaDeprecationWarning: The 'nopython' keyword argument was not supplied to the 'numba.jit' decorator. The implicit default value for this argument is currently False, but it will be changed to True in Numba 0.59.0. See https://numba.readthedocs.io/en/stable/reference/deprecation.html#deprecation-of-object-mode-fall-back-behaviour-when-using-jit for details.\n",
            "  def _build_fixed_multi_output(averaged_outs, last_outs, outputs, batch_positions, varying_rows, num_varying_rows, link, linearizing_weights):\n",
            "/usr/local/lib/python3.10/dist-packages/shap/utils/_masked_model.py:428: NumbaDeprecationWarning: The 'nopython' keyword argument was not supplied to the 'numba.jit' decorator. The implicit default value for this argument is currently False, but it will be changed to True in Numba 0.59.0. See https://numba.readthedocs.io/en/stable/reference/deprecation.html#deprecation-of-object-mode-fall-back-behaviour-when-using-jit for details.\n",
            "  def _init_masks(cluster_matrix, M, indices_row_pos, indptr):\n",
            "/usr/local/lib/python3.10/dist-packages/shap/utils/_masked_model.py:439: NumbaDeprecationWarning: The 'nopython' keyword argument was not supplied to the 'numba.jit' decorator. The implicit default value for this argument is currently False, but it will be changed to True in Numba 0.59.0. See https://numba.readthedocs.io/en/stable/reference/deprecation.html#deprecation-of-object-mode-fall-back-behaviour-when-using-jit for details.\n",
            "  def _rec_fill_masks(cluster_matrix, indices_row_pos, indptr, indices, M, ind):\n",
            "/usr/local/lib/python3.10/dist-packages/shap/maskers/_tabular.py:186: NumbaDeprecationWarning: The 'nopython' keyword argument was not supplied to the 'numba.jit' decorator. The implicit default value for this argument is currently False, but it will be changed to True in Numba 0.59.0. See https://numba.readthedocs.io/en/stable/reference/deprecation.html#deprecation-of-object-mode-fall-back-behaviour-when-using-jit for details.\n",
            "  def _single_delta_mask(dind, masked_inputs, last_mask, data, x, noop_code):\n",
            "/usr/local/lib/python3.10/dist-packages/shap/maskers/_tabular.py:197: NumbaDeprecationWarning: The 'nopython' keyword argument was not supplied to the 'numba.jit' decorator. The implicit default value for this argument is currently False, but it will be changed to True in Numba 0.59.0. See https://numba.readthedocs.io/en/stable/reference/deprecation.html#deprecation-of-object-mode-fall-back-behaviour-when-using-jit for details.\n",
            "  def _delta_masking(masks, x, curr_delta_inds, varying_rows_out,\n",
            "/usr/local/lib/python3.10/dist-packages/shap/maskers/_image.py:175: NumbaDeprecationWarning: The 'nopython' keyword argument was not supplied to the 'numba.jit' decorator. The implicit default value for this argument is currently False, but it will be changed to True in Numba 0.59.0. See https://numba.readthedocs.io/en/stable/reference/deprecation.html#deprecation-of-object-mode-fall-back-behaviour-when-using-jit for details.\n",
            "  def _jit_build_partition_tree(xmin, xmax, ymin, ymax, zmin, zmax, total_ywidth, total_zwidth, M, clustering, q):\n",
            "/usr/local/lib/python3.10/dist-packages/shap/explainers/_partition.py:676: NumbaDeprecationWarning: The 'nopython' keyword argument was not supplied to the 'numba.jit' decorator. The implicit default value for this argument is currently False, but it will be changed to True in Numba 0.59.0. See https://numba.readthedocs.io/en/stable/reference/deprecation.html#deprecation-of-object-mode-fall-back-behaviour-when-using-jit for details.\n",
            "  def lower_credit(i, value, M, values, clustering):\n",
            "The 'nopython' keyword argument was not supplied to the 'numba.jit' decorator. The implicit default value for this argument is currently False, but it will be changed to True in Numba 0.59.0. See https://numba.readthedocs.io/en/stable/reference/deprecation.html#deprecation-of-object-mode-fall-back-behaviour-when-using-jit for details.\n",
            "The 'nopython' keyword argument was not supplied to the 'numba.jit' decorator. The implicit default value for this argument is currently False, but it will be changed to True in Numba 0.59.0. See https://numba.readthedocs.io/en/stable/reference/deprecation.html#deprecation-of-object-mode-fall-back-behaviour-when-using-jit for details.\n"
          ]
        },
        {
          "output_type": "stream",
          "name": "stdout",
          "text": [
            "0.14.1\n"
          ]
        }
      ],
      "source": [
        "import numpy as np\n",
        "import pandas as pd\n",
        "import duecredit\n",
        "\n",
        "from causalml.inference.tree import UpliftRandomForestClassifier\n",
        "from causalml.metrics import plot_gain, get_cumgain\n",
        "from sklearn.model_selection import train_test_split\n",
        "\n",
        "import importlib\n",
        "print(importlib.metadata.version('causalml') )"
      ],
      "id": "_zHlblGBW1Sy"
    },
    {
      "cell_type": "code",
      "source": [
        "%%time\n",
        "import pickle\n",
        "def load_model(model_path):\n",
        "   \"\"\"Load a pickled model.\"\"\"\n",
        "   return pickle.load(open(model_path, \"rb\"))\n",
        "\n",
        "def get_results(model_index, df, data, model_prefix=\"CasualML_uplift_202306_\"):\n",
        "   \"\"\"Run model predictions and update DataFrame.\"\"\"\n",
        "   model_path = f\"/content/drive/MyDrive/Model/{model_prefix}{model_index}.pkl\"\n",
        "   model = load_model(model_path)\n",
        "   df_res = model.predict(data, full_output=True)\n",
        "   df[f'Uplift_{model_index}|T=0'] = df_res.iloc[:, 0]\n",
        "   df[f'Uplift_{model_index}|T=1'] = df_res.iloc[:, 1]\n",
        "   print(f'Finish running uplift_new_{model_index}')\n",
        "   return df\n",
        "\n",
        "def calculate_mean_uplifts(res, model_count=5):\n",
        "   \"\"\"Calculate mean uplifts and return a DataFrame.\"\"\"\n",
        "   T = [f'Uplift_{i}|T=0' for i in range(1, model_count + 1)]\n",
        "   T1 = [f'Uplift_{i}|T=1' for i in range(1, model_count + 1)]\n",
        "   res_columns = res[T + T1]\n",
        "   pred = pd.DataFrame()\n",
        "   pred['Uplift_mean|T=0'] = res_columns[T].mean(axis=1)\n",
        "   pred['Uplift_mean|T=1'] = res_columns[T1].mean(axis=1)\n",
        "   pred['Uplift_mean'] = pred['Uplift_mean|T=1'] - pred['Uplift_mean|T=0']\n",
        "   return pred\n",
        "\n",
        "# Example usage\n",
        "res_df = pd.DataFrame()\n",
        "for i in range(1, 6):\n",
        "   res_df = get_results(i, res_df, oct_data)\n",
        "pred = calculate_mean_uplifts(res_df)\n",
        "pred"
      ],
      "metadata": {
        "id": "BhTo7QWin6cS"
      },
      "id": "BhTo7QWin6cS",
      "execution_count": null,
      "outputs": []
    },
    {
      "cell_type": "code",
      "source": [
        "#暫存causalml的結果\n",
        "pred.to_csv('temp.csv')"
      ],
      "metadata": {
        "id": "6VZg9_7VAM10"
      },
      "id": "6VZg9_7VAM10",
      "execution_count": null,
      "outputs": []
    },
    {
      "cell_type": "markdown",
      "source": [
        "##X-Learner"
      ],
      "metadata": {
        "id": "isQ6kZ2apYLk"
      },
      "id": "isQ6kZ2apYLk"
    },
    {
      "cell_type": "code",
      "source": [
        "!pip install scikit-learn==1.2.2\n",
        "!pip install --upgrade DecisionTreeClassifier"
      ],
      "metadata": {
        "id": "WFHA8Qx2-zGw"
      },
      "id": "WFHA8Qx2-zGw",
      "execution_count": null,
      "outputs": []
    },
    {
      "source": [
        "#避免版本衝突，重新下載之後需要手動重啟"
      ],
      "cell_type": "code",
      "metadata": {
        "id": "Cg206bHEY7jM"
      },
      "id": "Cg206bHEY7jM",
      "execution_count": 4,
      "outputs": []
    },
    {
      "cell_type": "code",
      "source": [
        "import importlib\n",
        "print(importlib.metadata.version('scikit-learn') )"
      ],
      "metadata": {
        "id": "gu0fwPcUY6k5"
      },
      "id": "gu0fwPcUY6k5",
      "execution_count": null,
      "outputs": []
    },
    {
      "cell_type": "code",
      "source": [
        "import pandas as pd\n",
        "import numpy as np\n",
        "\n",
        "# Load your May data\n",
        "oct_data = pd.read_csv('/content/data202311.csv', index_col=0)\n",
        "\n",
        "unino = oct_data['UNINO']\n",
        "oct_data.drop(['換匯發送名單','TOTALNTAMOUNT', '跨售行為', 'UNINO'], axis = 'columns', inplace = True)\n",
        "\n",
        "#201 columns\n",
        "oct_data.columns"
      ],
      "metadata": {
        "id": "vpeAhWWcAbpU"
      },
      "id": "vpeAhWWcAbpU",
      "execution_count": null,
      "outputs": []
    },
    {
      "cell_type": "code",
      "source": [
        "!pip install econml"
      ],
      "metadata": {
        "id": "x9vbmaMv56Ft"
      },
      "id": "x9vbmaMv56Ft",
      "execution_count": null,
      "outputs": []
    },
    {
      "cell_type": "code",
      "source": [
        "# Main imports\n",
        "from econml.metalearners import XLearner\n",
        "\n",
        "# Helper imports\n",
        "import numpy as np\n",
        "from numpy.random import binomial, multivariate_normal, normal, uniform\n",
        "from sklearn.linear_model import LinearRegression\n",
        "from sklearn.ensemble import RandomForestRegressor, RandomForestClassifier, GradientBoostingRegressor\n",
        "import matplotlib.pyplot as plt\n",
        "\n",
        "%matplotlib inline"
      ],
      "metadata": {
        "id": "UqbsA7B9u4Mu"
      },
      "execution_count": null,
      "outputs": [],
      "id": "UqbsA7B9u4Mu"
    },
    {
      "cell_type": "code",
      "source": [
        "%%time\n",
        "import pickle\n",
        "import pandas as pd\n",
        "\n",
        "def get_other_results(model_list, name_list, df, data):\n",
        "  for i in range(len(model_list)):\n",
        "    with open (\"/content/drive/MyDrive/Model/\"+ model_list[i], \"rb\") as file:\n",
        "      est = pickle.load(file)\n",
        "    if i ==2:\n",
        "      df[name_list[i]] = est.predict(data)\n",
        "    else :\n",
        "      df[name_list[i]] = est.effect(data)\n",
        "  return df\n",
        "\n",
        "##使用\n",
        "pred = pd.read_csv('temp.csv', index_col = 0)\n",
        "pred.insert(0, '換匯基因標籤', oct_data['換匯基因標籤'].values)\n",
        "pred.insert(0, 'UNINO', unino.values)\n",
        "model_list = ['EconML_X_202306_new_1.pkl', 'Value_EconML_X_202306.pkl', 'Econml_RF_202306_new.pkl', 'Econml_CF_202306_new.pkl']\n",
        "name_list = ['X_te_2', 'Value_X', 'E(V)|T = 0, D = 1', 'te']\n",
        "pred = get_other_results(model_list, name_list, pred, oct_data)\n",
        "pred['E(V)|T = 1, D = 1'] = pred['E(V)|T = 0, D = 1'] + pred['te']\n",
        "pred\n",
        "#pred.to_csv('/content/drive/MyDrive/Sinopac/Results/Prediction_results_202311.csv')\n",
        "#1066146 rows × 10 columns"
      ],
      "metadata": {
        "id": "6yVKwRC6rS-a"
      },
      "id": "6yVKwRC6rS-a",
      "execution_count": null,
      "outputs": []
    },
    {
      "cell_type": "code",
      "source": [
        "pred.describe()"
      ],
      "metadata": {
        "id": "Hj60LZHH1hcA"
      },
      "execution_count": null,
      "outputs": [],
      "id": "Hj60LZHH1hcA"
    },
    {
      "cell_type": "code",
      "source": [
        "res = pd.DataFrame()\n",
        "res = pred.iloc[:,:7]\n",
        "res['X_te_2'] = pred['X_te_2']\n",
        "res['E(V)|X,T = 0'] = pred['Uplift_mean|T=0'] * pred['E(V)|T = 0, D = 1']\n",
        "res['E(V)|X,T = 1'] = pred['Uplift_mean|T=1'] * pred['E(V)|T = 1, D = 1']\n",
        "res['Gi'] = res['E(V)|X,T = 1']-res['E(V)|X,T = 0']\n",
        "#res['Value_mean'] = pred['Value_mean']\n",
        "res\n",
        "#res.to_csv('/content/drive/MyDrive/Sinopac/Results/Prediction_results_All_202311.csv')\n",
        "#1066146 rows × 10 columns"
      ],
      "metadata": {
        "id": "DxCycjztr-nj"
      },
      "execution_count": null,
      "outputs": [],
      "id": "DxCycjztr-nj"
    },
    {
      "cell_type": "code",
      "source": [
        "res[['Gi', 'Value_X']].describe()"
      ],
      "metadata": {
        "id": "1ZGsUZzgbaow"
      },
      "execution_count": null,
      "outputs": [],
      "id": "1ZGsUZzgbaow"
    },
    {
      "cell_type": "code",
      "source": [
        "res['Gi'].corr(res['Value_X'])"
      ],
      "metadata": {
        "id": "7mxylmfp2OC_"
      },
      "execution_count": null,
      "outputs": [],
      "id": "7mxylmfp2OC_"
    },
    {
      "cell_type": "markdown",
      "source": [
        "##Plot"
      ],
      "metadata": {
        "id": "icXd0Me4uqat"
      },
      "id": "icXd0Me4uqat"
    },
    {
      "cell_type": "code",
      "source": [
        "import pandas as pd\n",
        "pred = pd.read_csv('/content/drive/MyDrive/Sinopac/Results/Prediction_results_202311.csv', index_col = 0)\n",
        "res = pd.read_csv('/content/drive/MyDrive/Sinopac/Results/Prediction_results_All_202311.csv', index_col = 0)\n",
        "res"
      ],
      "metadata": {
        "id": "bHKyDwgHr-nj"
      },
      "execution_count": null,
      "outputs": [],
      "id": "bHKyDwgHr-nj"
    },
    {
      "cell_type": "code",
      "source": [
        "# Import libraries\n",
        "import matplotlib.pyplot as plt\n",
        "import numpy as np\n",
        "\n",
        "plt.figure(figsize=(15, 5))\n",
        "\n",
        "plt.subplot(121)\n",
        "plt.scatter(res.iloc[:,1], res['X_te_2'])\n",
        "plt.xlabel('Gene PR')\n",
        "plt.ylabel('X-Learner(pred)')\n",
        "plt.subplot(122)\n",
        "plt.scatter(res.iloc[:,1], res.iloc[:,-1])\n",
        "plt.xlabel('Gene PR')\n",
        "plt.ylabel('Gi(pred)')\n",
        "plt.legend()"
      ],
      "metadata": {
        "id": "0dhgZrmkuoCF"
      },
      "execution_count": null,
      "outputs": [],
      "id": "0dhgZrmkuoCF"
    },
    {
      "cell_type": "code",
      "source": [
        "# Import libraries\n",
        "import matplotlib.pyplot as plt\n",
        "import numpy as np\n",
        "\n",
        "plt.figure(figsize =(15, 10))\n",
        "\n",
        "plt.subplot(141)\n",
        "plt.boxplot(res['Uplift_mean'], labels=['Uplift_mean'])\n",
        "# Creating plot\n",
        "plt.subplot(142)\n",
        "plt.boxplot(res['X_te_2'], labels=['X-Learner'])\n",
        "plt.subplot(143)\n",
        "plt.boxplot(res[['Uplift_mean|T=0', 'Uplift_mean|T=1']], labels=['Uplift|T=0', 'Uplift|T=1'])\n",
        "plt.subplot(144)\n",
        "plt.boxplot(res[['E(V)|X,T = 0', 'E(V)|X,T = 1']], labels=['E(V)|T=0', 'E(V)|T=1'])\n",
        "\n",
        "# show plot\n",
        "plt.show()"
      ],
      "metadata": {
        "id": "cjI7I_9u20tN"
      },
      "execution_count": null,
      "outputs": [],
      "id": "cjI7I_9u20tN"
    },
    {
      "cell_type": "markdown",
      "source": [
        "# 名單"
      ],
      "metadata": {
        "id": "l7D1xC0DerIN"
      },
      "id": "l7D1xC0DerIN"
    },
    {
      "cell_type": "code",
      "source": [],
      "metadata": {
        "id": "Pdg7fewietUS"
      },
      "id": "Pdg7fewietUS",
      "execution_count": null,
      "outputs": []
    }
  ],
  "metadata": {
    "kernelspec": {
      "display_name": "Python 3 (ipykernel)",
      "language": "python",
      "name": "python3"
    },
    "language_info": {
      "codemirror_mode": {
        "name": "ipython",
        "version": 3
      },
      "file_extension": ".py",
      "mimetype": "text/x-python",
      "name": "python",
      "nbconvert_exporter": "python",
      "pygments_lexer": "ipython3",
      "version": "3.10.9"
    },
    "colab": {
      "provenance": [],
      "toc_visible": true,
      "include_colab_link": true
    }
  },
  "nbformat": 4,
  "nbformat_minor": 5
}